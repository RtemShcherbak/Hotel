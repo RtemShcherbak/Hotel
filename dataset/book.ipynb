{
 "cells": [
  {
   "cell_type": "markdown",
   "metadata": {},
   "source": [
    "# Прогнозирование оттока клиентов в сети отелей «Как в гостях»"
   ]
  },
  {
   "cell_type": "markdown",
   "metadata": {},
   "source": [
    "### Шаг 1. Откройте файлы с данными"
   ]
  },
  {
   "cell_type": "code",
   "execution_count": 2,
   "metadata": {
    "ExecuteTime": {
     "end_time": "2023-12-08T04:25:58.183136Z",
     "start_time": "2023-12-08T04:25:58.145079Z"
    }
   },
   "outputs": [],
   "source": [
    "# импорт библиотеки pandas\n",
    "import pandas as pd"
   ]
  },
  {
   "cell_type": "code",
   "execution_count": 9,
   "outputs": [],
   "source": [
    "df_train = pd.read_csv('hotel_train.csv', sep=',')"
   ],
   "metadata": {
    "collapsed": false,
    "ExecuteTime": {
     "end_time": "2023-12-08T04:27:32.486007Z",
     "start_time": "2023-12-08T04:27:32.383293Z"
    }
   }
  },
  {
   "cell_type": "code",
   "execution_count": 10,
   "outputs": [],
   "source": [
    "df_test = pd.read_csv('hotel_train.csv', sep=',')"
   ],
   "metadata": {
    "collapsed": false,
    "ExecuteTime": {
     "end_time": "2023-12-08T04:27:36.949026Z",
     "start_time": "2023-12-08T04:27:36.862042Z"
    }
   }
  },
  {
   "cell_type": "code",
   "execution_count": 11,
   "outputs": [
    {
     "data": {
      "text/plain": "          id  is_canceled  lead_time  arrival_date_year arrival_date_month  \\\n0          0            0        7.0               2015               July   \n1          1            0       14.0               2015               July   \n2          2            0        0.0               2015               July   \n3          3            0        9.0               2015               July   \n4          4            1       85.0               2015               July   \n...      ...          ...        ...                ...                ...   \n65224  84057            0       23.0               2016           December   \n65225  84063            0       53.0               2016           December   \n65226  84094            0        7.0               2016           December   \n65227  84117            0       17.0               2016           December   \n65228  84121            0      107.0               2016           December   \n\n       arrival_date_week_number  arrival_date_day_of_month  \\\n0                            27                          1   \n1                            27                          1   \n2                            27                          1   \n3                            27                          1   \n4                            27                          1   \n...                         ...                        ...   \n65224                        53                         30   \n65225                        53                         31   \n65226                        53                         31   \n65227                        53                         30   \n65228                        53                         31   \n\n       stays_in_weekend_nights  stays_in_week_nights  adults  ...  \\\n0                            0                     1     1.0  ...   \n1                            0                     2     2.0  ...   \n2                            0                     2     2.0  ...   \n3                            0                     2     2.0  ...   \n4                            0                     3     2.0  ...   \n...                        ...                   ...     ...  ...   \n65224                        2                     4     2.0  ...   \n65225                        2                     3     2.0  ...   \n65226                        2                     4     2.0  ...   \n65227                        2                     5     2.0  ...   \n65228                        2                     5     2.0  ...   \n\n       is_repeated_guest  previous_cancellations  \\\n0                      0                       0   \n1                      0                       0   \n2                      0                       0   \n3                      0                       0   \n4                      0                       0   \n...                  ...                     ...   \n65224                  0                       0   \n65225                  0                       0   \n65226                  0                       0   \n65227                  0                       0   \n65228                  0                       0   \n\n      previous_bookings_not_canceled reserved_room_type booking_changes  \\\n0                                  0   A                              0   \n1                                  0   A                              0   \n2                                  0   C                              0   \n3                                  0   C                              0   \n4                                  0   A                              0   \n...                              ...                ...             ...   \n65224                              0   D                              0   \n65225                              0   D                              0   \n65226                              0   D                              0   \n65227                              0   A                              0   \n65228                              0   A                              0   \n\n       days_in_waiting_list  customer_type  required_car_parking_spaces  \\\n0                         0      Transient                            0   \n1                         0      Transient                            0   \n2                         0      Transient                            0   \n3                         0      Transient                            0   \n4                         0      Transient                            0   \n...                     ...            ...                          ...   \n65224                     0      Transient                            0   \n65225                     0      Transient                            0   \n65226                     0      Transient                            0   \n65227                     0      Transient                            0   \n65228                     0      Transient                            0   \n\n      total_of_special_requests  total_nights  \n0                             0             1  \n1                             1             2  \n2                             0             2  \n3                             1             2  \n4                             1             3  \n...                         ...           ...  \n65224                         2             6  \n65225                         3             5  \n65226                         1             6  \n65227                         1             7  \n65228                         0             7  \n\n[65229 rows x 25 columns]",
      "text/html": "<div>\n<style scoped>\n    .dataframe tbody tr th:only-of-type {\n        vertical-align: middle;\n    }\n\n    .dataframe tbody tr th {\n        vertical-align: top;\n    }\n\n    .dataframe thead th {\n        text-align: right;\n    }\n</style>\n<table border=\"1\" class=\"dataframe\">\n  <thead>\n    <tr style=\"text-align: right;\">\n      <th></th>\n      <th>id</th>\n      <th>is_canceled</th>\n      <th>lead_time</th>\n      <th>arrival_date_year</th>\n      <th>arrival_date_month</th>\n      <th>arrival_date_week_number</th>\n      <th>arrival_date_day_of_month</th>\n      <th>stays_in_weekend_nights</th>\n      <th>stays_in_week_nights</th>\n      <th>adults</th>\n      <th>...</th>\n      <th>is_repeated_guest</th>\n      <th>previous_cancellations</th>\n      <th>previous_bookings_not_canceled</th>\n      <th>reserved_room_type</th>\n      <th>booking_changes</th>\n      <th>days_in_waiting_list</th>\n      <th>customer_type</th>\n      <th>required_car_parking_spaces</th>\n      <th>total_of_special_requests</th>\n      <th>total_nights</th>\n    </tr>\n  </thead>\n  <tbody>\n    <tr>\n      <th>0</th>\n      <td>0</td>\n      <td>0</td>\n      <td>7.0</td>\n      <td>2015</td>\n      <td>July</td>\n      <td>27</td>\n      <td>1</td>\n      <td>0</td>\n      <td>1</td>\n      <td>1.0</td>\n      <td>...</td>\n      <td>0</td>\n      <td>0</td>\n      <td>0</td>\n      <td>A</td>\n      <td>0</td>\n      <td>0</td>\n      <td>Transient</td>\n      <td>0</td>\n      <td>0</td>\n      <td>1</td>\n    </tr>\n    <tr>\n      <th>1</th>\n      <td>1</td>\n      <td>0</td>\n      <td>14.0</td>\n      <td>2015</td>\n      <td>July</td>\n      <td>27</td>\n      <td>1</td>\n      <td>0</td>\n      <td>2</td>\n      <td>2.0</td>\n      <td>...</td>\n      <td>0</td>\n      <td>0</td>\n      <td>0</td>\n      <td>A</td>\n      <td>0</td>\n      <td>0</td>\n      <td>Transient</td>\n      <td>0</td>\n      <td>1</td>\n      <td>2</td>\n    </tr>\n    <tr>\n      <th>2</th>\n      <td>2</td>\n      <td>0</td>\n      <td>0.0</td>\n      <td>2015</td>\n      <td>July</td>\n      <td>27</td>\n      <td>1</td>\n      <td>0</td>\n      <td>2</td>\n      <td>2.0</td>\n      <td>...</td>\n      <td>0</td>\n      <td>0</td>\n      <td>0</td>\n      <td>C</td>\n      <td>0</td>\n      <td>0</td>\n      <td>Transient</td>\n      <td>0</td>\n      <td>0</td>\n      <td>2</td>\n    </tr>\n    <tr>\n      <th>3</th>\n      <td>3</td>\n      <td>0</td>\n      <td>9.0</td>\n      <td>2015</td>\n      <td>July</td>\n      <td>27</td>\n      <td>1</td>\n      <td>0</td>\n      <td>2</td>\n      <td>2.0</td>\n      <td>...</td>\n      <td>0</td>\n      <td>0</td>\n      <td>0</td>\n      <td>C</td>\n      <td>0</td>\n      <td>0</td>\n      <td>Transient</td>\n      <td>0</td>\n      <td>1</td>\n      <td>2</td>\n    </tr>\n    <tr>\n      <th>4</th>\n      <td>4</td>\n      <td>1</td>\n      <td>85.0</td>\n      <td>2015</td>\n      <td>July</td>\n      <td>27</td>\n      <td>1</td>\n      <td>0</td>\n      <td>3</td>\n      <td>2.0</td>\n      <td>...</td>\n      <td>0</td>\n      <td>0</td>\n      <td>0</td>\n      <td>A</td>\n      <td>0</td>\n      <td>0</td>\n      <td>Transient</td>\n      <td>0</td>\n      <td>1</td>\n      <td>3</td>\n    </tr>\n    <tr>\n      <th>...</th>\n      <td>...</td>\n      <td>...</td>\n      <td>...</td>\n      <td>...</td>\n      <td>...</td>\n      <td>...</td>\n      <td>...</td>\n      <td>...</td>\n      <td>...</td>\n      <td>...</td>\n      <td>...</td>\n      <td>...</td>\n      <td>...</td>\n      <td>...</td>\n      <td>...</td>\n      <td>...</td>\n      <td>...</td>\n      <td>...</td>\n      <td>...</td>\n      <td>...</td>\n      <td>...</td>\n    </tr>\n    <tr>\n      <th>65224</th>\n      <td>84057</td>\n      <td>0</td>\n      <td>23.0</td>\n      <td>2016</td>\n      <td>December</td>\n      <td>53</td>\n      <td>30</td>\n      <td>2</td>\n      <td>4</td>\n      <td>2.0</td>\n      <td>...</td>\n      <td>0</td>\n      <td>0</td>\n      <td>0</td>\n      <td>D</td>\n      <td>0</td>\n      <td>0</td>\n      <td>Transient</td>\n      <td>0</td>\n      <td>2</td>\n      <td>6</td>\n    </tr>\n    <tr>\n      <th>65225</th>\n      <td>84063</td>\n      <td>0</td>\n      <td>53.0</td>\n      <td>2016</td>\n      <td>December</td>\n      <td>53</td>\n      <td>31</td>\n      <td>2</td>\n      <td>3</td>\n      <td>2.0</td>\n      <td>...</td>\n      <td>0</td>\n      <td>0</td>\n      <td>0</td>\n      <td>D</td>\n      <td>0</td>\n      <td>0</td>\n      <td>Transient</td>\n      <td>0</td>\n      <td>3</td>\n      <td>5</td>\n    </tr>\n    <tr>\n      <th>65226</th>\n      <td>84094</td>\n      <td>0</td>\n      <td>7.0</td>\n      <td>2016</td>\n      <td>December</td>\n      <td>53</td>\n      <td>31</td>\n      <td>2</td>\n      <td>4</td>\n      <td>2.0</td>\n      <td>...</td>\n      <td>0</td>\n      <td>0</td>\n      <td>0</td>\n      <td>D</td>\n      <td>0</td>\n      <td>0</td>\n      <td>Transient</td>\n      <td>0</td>\n      <td>1</td>\n      <td>6</td>\n    </tr>\n    <tr>\n      <th>65227</th>\n      <td>84117</td>\n      <td>0</td>\n      <td>17.0</td>\n      <td>2016</td>\n      <td>December</td>\n      <td>53</td>\n      <td>30</td>\n      <td>2</td>\n      <td>5</td>\n      <td>2.0</td>\n      <td>...</td>\n      <td>0</td>\n      <td>0</td>\n      <td>0</td>\n      <td>A</td>\n      <td>0</td>\n      <td>0</td>\n      <td>Transient</td>\n      <td>0</td>\n      <td>1</td>\n      <td>7</td>\n    </tr>\n    <tr>\n      <th>65228</th>\n      <td>84121</td>\n      <td>0</td>\n      <td>107.0</td>\n      <td>2016</td>\n      <td>December</td>\n      <td>53</td>\n      <td>31</td>\n      <td>2</td>\n      <td>5</td>\n      <td>2.0</td>\n      <td>...</td>\n      <td>0</td>\n      <td>0</td>\n      <td>0</td>\n      <td>A</td>\n      <td>0</td>\n      <td>0</td>\n      <td>Transient</td>\n      <td>0</td>\n      <td>0</td>\n      <td>7</td>\n    </tr>\n  </tbody>\n</table>\n<p>65229 rows × 25 columns</p>\n</div>"
     },
     "execution_count": 11,
     "metadata": {},
     "output_type": "execute_result"
    }
   ],
   "source": [
    "df_train"
   ],
   "metadata": {
    "collapsed": false,
    "ExecuteTime": {
     "end_time": "2023-12-08T04:27:41.283786Z",
     "start_time": "2023-12-08T04:27:41.239250Z"
    }
   }
  },
  {
   "cell_type": "code",
   "execution_count": 12,
   "outputs": [
    {
     "data": {
      "text/plain": "          id  is_canceled  lead_time  arrival_date_year arrival_date_month  \\\n0          0            0        7.0               2015               July   \n1          1            0       14.0               2015               July   \n2          2            0        0.0               2015               July   \n3          3            0        9.0               2015               July   \n4          4            1       85.0               2015               July   \n...      ...          ...        ...                ...                ...   \n65224  84057            0       23.0               2016           December   \n65225  84063            0       53.0               2016           December   \n65226  84094            0        7.0               2016           December   \n65227  84117            0       17.0               2016           December   \n65228  84121            0      107.0               2016           December   \n\n       arrival_date_week_number  arrival_date_day_of_month  \\\n0                            27                          1   \n1                            27                          1   \n2                            27                          1   \n3                            27                          1   \n4                            27                          1   \n...                         ...                        ...   \n65224                        53                         30   \n65225                        53                         31   \n65226                        53                         31   \n65227                        53                         30   \n65228                        53                         31   \n\n       stays_in_weekend_nights  stays_in_week_nights  adults  ...  \\\n0                            0                     1     1.0  ...   \n1                            0                     2     2.0  ...   \n2                            0                     2     2.0  ...   \n3                            0                     2     2.0  ...   \n4                            0                     3     2.0  ...   \n...                        ...                   ...     ...  ...   \n65224                        2                     4     2.0  ...   \n65225                        2                     3     2.0  ...   \n65226                        2                     4     2.0  ...   \n65227                        2                     5     2.0  ...   \n65228                        2                     5     2.0  ...   \n\n       is_repeated_guest  previous_cancellations  \\\n0                      0                       0   \n1                      0                       0   \n2                      0                       0   \n3                      0                       0   \n4                      0                       0   \n...                  ...                     ...   \n65224                  0                       0   \n65225                  0                       0   \n65226                  0                       0   \n65227                  0                       0   \n65228                  0                       0   \n\n      previous_bookings_not_canceled reserved_room_type booking_changes  \\\n0                                  0   A                              0   \n1                                  0   A                              0   \n2                                  0   C                              0   \n3                                  0   C                              0   \n4                                  0   A                              0   \n...                              ...                ...             ...   \n65224                              0   D                              0   \n65225                              0   D                              0   \n65226                              0   D                              0   \n65227                              0   A                              0   \n65228                              0   A                              0   \n\n       days_in_waiting_list  customer_type  required_car_parking_spaces  \\\n0                         0      Transient                            0   \n1                         0      Transient                            0   \n2                         0      Transient                            0   \n3                         0      Transient                            0   \n4                         0      Transient                            0   \n...                     ...            ...                          ...   \n65224                     0      Transient                            0   \n65225                     0      Transient                            0   \n65226                     0      Transient                            0   \n65227                     0      Transient                            0   \n65228                     0      Transient                            0   \n\n      total_of_special_requests  total_nights  \n0                             0             1  \n1                             1             2  \n2                             0             2  \n3                             1             2  \n4                             1             3  \n...                         ...           ...  \n65224                         2             6  \n65225                         3             5  \n65226                         1             6  \n65227                         1             7  \n65228                         0             7  \n\n[65229 rows x 25 columns]",
      "text/html": "<div>\n<style scoped>\n    .dataframe tbody tr th:only-of-type {\n        vertical-align: middle;\n    }\n\n    .dataframe tbody tr th {\n        vertical-align: top;\n    }\n\n    .dataframe thead th {\n        text-align: right;\n    }\n</style>\n<table border=\"1\" class=\"dataframe\">\n  <thead>\n    <tr style=\"text-align: right;\">\n      <th></th>\n      <th>id</th>\n      <th>is_canceled</th>\n      <th>lead_time</th>\n      <th>arrival_date_year</th>\n      <th>arrival_date_month</th>\n      <th>arrival_date_week_number</th>\n      <th>arrival_date_day_of_month</th>\n      <th>stays_in_weekend_nights</th>\n      <th>stays_in_week_nights</th>\n      <th>adults</th>\n      <th>...</th>\n      <th>is_repeated_guest</th>\n      <th>previous_cancellations</th>\n      <th>previous_bookings_not_canceled</th>\n      <th>reserved_room_type</th>\n      <th>booking_changes</th>\n      <th>days_in_waiting_list</th>\n      <th>customer_type</th>\n      <th>required_car_parking_spaces</th>\n      <th>total_of_special_requests</th>\n      <th>total_nights</th>\n    </tr>\n  </thead>\n  <tbody>\n    <tr>\n      <th>0</th>\n      <td>0</td>\n      <td>0</td>\n      <td>7.0</td>\n      <td>2015</td>\n      <td>July</td>\n      <td>27</td>\n      <td>1</td>\n      <td>0</td>\n      <td>1</td>\n      <td>1.0</td>\n      <td>...</td>\n      <td>0</td>\n      <td>0</td>\n      <td>0</td>\n      <td>A</td>\n      <td>0</td>\n      <td>0</td>\n      <td>Transient</td>\n      <td>0</td>\n      <td>0</td>\n      <td>1</td>\n    </tr>\n    <tr>\n      <th>1</th>\n      <td>1</td>\n      <td>0</td>\n      <td>14.0</td>\n      <td>2015</td>\n      <td>July</td>\n      <td>27</td>\n      <td>1</td>\n      <td>0</td>\n      <td>2</td>\n      <td>2.0</td>\n      <td>...</td>\n      <td>0</td>\n      <td>0</td>\n      <td>0</td>\n      <td>A</td>\n      <td>0</td>\n      <td>0</td>\n      <td>Transient</td>\n      <td>0</td>\n      <td>1</td>\n      <td>2</td>\n    </tr>\n    <tr>\n      <th>2</th>\n      <td>2</td>\n      <td>0</td>\n      <td>0.0</td>\n      <td>2015</td>\n      <td>July</td>\n      <td>27</td>\n      <td>1</td>\n      <td>0</td>\n      <td>2</td>\n      <td>2.0</td>\n      <td>...</td>\n      <td>0</td>\n      <td>0</td>\n      <td>0</td>\n      <td>C</td>\n      <td>0</td>\n      <td>0</td>\n      <td>Transient</td>\n      <td>0</td>\n      <td>0</td>\n      <td>2</td>\n    </tr>\n    <tr>\n      <th>3</th>\n      <td>3</td>\n      <td>0</td>\n      <td>9.0</td>\n      <td>2015</td>\n      <td>July</td>\n      <td>27</td>\n      <td>1</td>\n      <td>0</td>\n      <td>2</td>\n      <td>2.0</td>\n      <td>...</td>\n      <td>0</td>\n      <td>0</td>\n      <td>0</td>\n      <td>C</td>\n      <td>0</td>\n      <td>0</td>\n      <td>Transient</td>\n      <td>0</td>\n      <td>1</td>\n      <td>2</td>\n    </tr>\n    <tr>\n      <th>4</th>\n      <td>4</td>\n      <td>1</td>\n      <td>85.0</td>\n      <td>2015</td>\n      <td>July</td>\n      <td>27</td>\n      <td>1</td>\n      <td>0</td>\n      <td>3</td>\n      <td>2.0</td>\n      <td>...</td>\n      <td>0</td>\n      <td>0</td>\n      <td>0</td>\n      <td>A</td>\n      <td>0</td>\n      <td>0</td>\n      <td>Transient</td>\n      <td>0</td>\n      <td>1</td>\n      <td>3</td>\n    </tr>\n    <tr>\n      <th>...</th>\n      <td>...</td>\n      <td>...</td>\n      <td>...</td>\n      <td>...</td>\n      <td>...</td>\n      <td>...</td>\n      <td>...</td>\n      <td>...</td>\n      <td>...</td>\n      <td>...</td>\n      <td>...</td>\n      <td>...</td>\n      <td>...</td>\n      <td>...</td>\n      <td>...</td>\n      <td>...</td>\n      <td>...</td>\n      <td>...</td>\n      <td>...</td>\n      <td>...</td>\n      <td>...</td>\n    </tr>\n    <tr>\n      <th>65224</th>\n      <td>84057</td>\n      <td>0</td>\n      <td>23.0</td>\n      <td>2016</td>\n      <td>December</td>\n      <td>53</td>\n      <td>30</td>\n      <td>2</td>\n      <td>4</td>\n      <td>2.0</td>\n      <td>...</td>\n      <td>0</td>\n      <td>0</td>\n      <td>0</td>\n      <td>D</td>\n      <td>0</td>\n      <td>0</td>\n      <td>Transient</td>\n      <td>0</td>\n      <td>2</td>\n      <td>6</td>\n    </tr>\n    <tr>\n      <th>65225</th>\n      <td>84063</td>\n      <td>0</td>\n      <td>53.0</td>\n      <td>2016</td>\n      <td>December</td>\n      <td>53</td>\n      <td>31</td>\n      <td>2</td>\n      <td>3</td>\n      <td>2.0</td>\n      <td>...</td>\n      <td>0</td>\n      <td>0</td>\n      <td>0</td>\n      <td>D</td>\n      <td>0</td>\n      <td>0</td>\n      <td>Transient</td>\n      <td>0</td>\n      <td>3</td>\n      <td>5</td>\n    </tr>\n    <tr>\n      <th>65226</th>\n      <td>84094</td>\n      <td>0</td>\n      <td>7.0</td>\n      <td>2016</td>\n      <td>December</td>\n      <td>53</td>\n      <td>31</td>\n      <td>2</td>\n      <td>4</td>\n      <td>2.0</td>\n      <td>...</td>\n      <td>0</td>\n      <td>0</td>\n      <td>0</td>\n      <td>D</td>\n      <td>0</td>\n      <td>0</td>\n      <td>Transient</td>\n      <td>0</td>\n      <td>1</td>\n      <td>6</td>\n    </tr>\n    <tr>\n      <th>65227</th>\n      <td>84117</td>\n      <td>0</td>\n      <td>17.0</td>\n      <td>2016</td>\n      <td>December</td>\n      <td>53</td>\n      <td>30</td>\n      <td>2</td>\n      <td>5</td>\n      <td>2.0</td>\n      <td>...</td>\n      <td>0</td>\n      <td>0</td>\n      <td>0</td>\n      <td>A</td>\n      <td>0</td>\n      <td>0</td>\n      <td>Transient</td>\n      <td>0</td>\n      <td>1</td>\n      <td>7</td>\n    </tr>\n    <tr>\n      <th>65228</th>\n      <td>84121</td>\n      <td>0</td>\n      <td>107.0</td>\n      <td>2016</td>\n      <td>December</td>\n      <td>53</td>\n      <td>31</td>\n      <td>2</td>\n      <td>5</td>\n      <td>2.0</td>\n      <td>...</td>\n      <td>0</td>\n      <td>0</td>\n      <td>0</td>\n      <td>A</td>\n      <td>0</td>\n      <td>0</td>\n      <td>Transient</td>\n      <td>0</td>\n      <td>0</td>\n      <td>7</td>\n    </tr>\n  </tbody>\n</table>\n<p>65229 rows × 25 columns</p>\n</div>"
     },
     "execution_count": 12,
     "metadata": {},
     "output_type": "execute_result"
    }
   ],
   "source": [
    "df_test"
   ],
   "metadata": {
    "collapsed": false,
    "ExecuteTime": {
     "end_time": "2023-12-08T04:27:41.694444Z",
     "start_time": "2023-12-08T04:27:41.660794Z"
    }
   }
  },
  {
   "cell_type": "code",
   "execution_count": null,
   "outputs": [],
   "source": [
    "#TODO\n",
    "lead_time -> to_int\n",
    "arrival_date_month -> to_int (OHE)\n",
    "adults -> to_int\n",
    "children -> to_int\n",
    "babies -> to_int\n",
    "meal -> to_int (OHE)\n",
    "country -> to_int (OHE)\n",
    "distribution_channel -> to_int (OHE)\n",
    "is_repeated_guest -> to_bool\n",
    "previous_cancellations -> to_bool\n",
    "previous_bookings_not_canceled -> to_bool\n",
    "reserved_room_type -> to_int (OHE)\n",
    "customer_type -> to_int (OHE)"
   ],
   "metadata": {
    "collapsed": false
   }
  },
  {
   "cell_type": "code",
   "execution_count": null,
   "outputs": [],
   "source": [],
   "metadata": {
    "collapsed": false
   }
  },
  {
   "cell_type": "code",
   "execution_count": null,
   "outputs": [],
   "source": [],
   "metadata": {
    "collapsed": false
   }
  },
  {
   "cell_type": "markdown",
   "metadata": {},
   "source": [
    "### Шаг 2. Предобработка и исследовательский анализ данных"
   ]
  },
  {
   "cell_type": "code",
   "execution_count": 15,
   "metadata": {
    "ExecuteTime": {
     "end_time": "2023-12-08T04:39:05.332495Z",
     "start_time": "2023-12-08T04:39:05.287736Z"
    }
   },
   "outputs": [
    {
     "name": "stdout",
     "output_type": "stream",
     "text": [
      "<class 'pandas.core.frame.DataFrame'>\n",
      "RangeIndex: 65229 entries, 0 to 65228\n",
      "Data columns (total 25 columns):\n",
      " #   Column                          Non-Null Count  Dtype  \n",
      "---  ------                          --------------  -----  \n",
      " 0   id                              65229 non-null  int64  \n",
      " 1   is_canceled                     65229 non-null  int64  \n",
      " 2   lead_time                       65229 non-null  float64\n",
      " 3   arrival_date_year               65229 non-null  int64  \n",
      " 4   arrival_date_month              65229 non-null  object \n",
      " 5   arrival_date_week_number        65229 non-null  int64  \n",
      " 6   arrival_date_day_of_month       65229 non-null  int64  \n",
      " 7   stays_in_weekend_nights         65229 non-null  int64  \n",
      " 8   stays_in_week_nights            65229 non-null  int64  \n",
      " 9   adults                          65229 non-null  float64\n",
      " 10  children                        65229 non-null  float64\n",
      " 11  babies                          65229 non-null  float64\n",
      " 12  meal                            65229 non-null  object \n",
      " 13  country                         65229 non-null  object \n",
      " 14  distribution_channel            65229 non-null  object \n",
      " 15  is_repeated_guest               65229 non-null  int64  \n",
      " 16  previous_cancellations          65229 non-null  int64  \n",
      " 17  previous_bookings_not_canceled  65229 non-null  int64  \n",
      " 18  reserved_room_type              65229 non-null  object \n",
      " 19  booking_changes                 65229 non-null  int64  \n",
      " 20  days_in_waiting_list            65229 non-null  int64  \n",
      " 21  customer_type                   65229 non-null  object \n",
      " 22  required_car_parking_spaces     65229 non-null  int64  \n",
      " 23  total_of_special_requests       65229 non-null  int64  \n",
      " 24  total_nights                    65229 non-null  int64  \n",
      "dtypes: float64(4), int64(15), object(6)\n",
      "memory usage: 12.4+ MB\n"
     ]
    }
   ],
   "source": [
    "df_train.info()"
   ]
  },
  {
   "cell_type": "code",
   "execution_count": 16,
   "outputs": [
    {
     "name": "stdout",
     "output_type": "stream",
     "text": [
      "<class 'pandas.core.frame.DataFrame'>\n",
      "RangeIndex: 65229 entries, 0 to 65228\n",
      "Data columns (total 25 columns):\n",
      " #   Column                          Non-Null Count  Dtype  \n",
      "---  ------                          --------------  -----  \n",
      " 0   id                              65229 non-null  int64  \n",
      " 1   is_canceled                     65229 non-null  int64  \n",
      " 2   lead_time                       65229 non-null  float64\n",
      " 3   arrival_date_year               65229 non-null  int64  \n",
      " 4   arrival_date_month              65229 non-null  object \n",
      " 5   arrival_date_week_number        65229 non-null  int64  \n",
      " 6   arrival_date_day_of_month       65229 non-null  int64  \n",
      " 7   stays_in_weekend_nights         65229 non-null  int64  \n",
      " 8   stays_in_week_nights            65229 non-null  int64  \n",
      " 9   adults                          65229 non-null  float64\n",
      " 10  children                        65229 non-null  float64\n",
      " 11  babies                          65229 non-null  float64\n",
      " 12  meal                            65229 non-null  object \n",
      " 13  country                         65229 non-null  object \n",
      " 14  distribution_channel            65229 non-null  object \n",
      " 15  is_repeated_guest               65229 non-null  int64  \n",
      " 16  previous_cancellations          65229 non-null  int64  \n",
      " 17  previous_bookings_not_canceled  65229 non-null  int64  \n",
      " 18  reserved_room_type              65229 non-null  object \n",
      " 19  booking_changes                 65229 non-null  int64  \n",
      " 20  days_in_waiting_list            65229 non-null  int64  \n",
      " 21  customer_type                   65229 non-null  object \n",
      " 22  required_car_parking_spaces     65229 non-null  int64  \n",
      " 23  total_of_special_requests       65229 non-null  int64  \n",
      " 24  total_nights                    65229 non-null  int64  \n",
      "dtypes: float64(4), int64(15), object(6)\n",
      "memory usage: 12.4+ MB\n"
     ]
    }
   ],
   "source": [
    "df_test.info()"
   ],
   "metadata": {
    "collapsed": false,
    "ExecuteTime": {
     "end_time": "2023-12-08T04:39:05.894714Z",
     "start_time": "2023-12-08T04:39:05.840975Z"
    }
   }
  },
  {
   "cell_type": "code",
   "execution_count": null,
   "outputs": [],
   "source": [],
   "metadata": {
    "collapsed": false
   }
  },
  {
   "cell_type": "code",
   "execution_count": null,
   "outputs": [],
   "source": [],
   "metadata": {
    "collapsed": false
   }
  },
  {
   "cell_type": "markdown",
   "metadata": {},
   "source": [
    "### Шаг 3. Формулировка ML-задачи на основе бизнес-задачи"
   ]
  },
  {
   "cell_type": "code",
   "execution_count": null,
   "metadata": {},
   "outputs": [],
   "source": []
  },
  {
   "cell_type": "markdown",
   "metadata": {},
   "source": [
    "### Шаг 4. Разработка модели ML"
   ]
  },
  {
   "cell_type": "code",
   "execution_count": null,
   "metadata": {},
   "outputs": [],
   "source": []
  },
  {
   "cell_type": "markdown",
   "metadata": {},
   "source": [
    "### Шаг 5. Опишите портрет «ненадёжного» клиента"
   ]
  },
  {
   "cell_type": "code",
   "execution_count": null,
   "metadata": {},
   "outputs": [],
   "source": []
  },
  {
   "cell_type": "markdown",
   "metadata": {},
   "source": [
    "### Шаг 6. Напишите общий вывод"
   ]
  },
  {
   "cell_type": "code",
   "execution_count": null,
   "metadata": {},
   "outputs": [],
   "source": []
  }
 ],
 "metadata": {
  "kernelspec": {
   "display_name": "Python 3 (ipykernel)",
   "language": "python",
   "name": "python3"
  },
  "language_info": {
   "codemirror_mode": {
    "name": "ipython",
    "version": 3
   },
   "file_extension": ".py",
   "mimetype": "text/x-python",
   "name": "python",
   "nbconvert_exporter": "python",
   "pygments_lexer": "ipython3",
   "version": "3.9.5"
  },
  "toc": {
   "base_numbering": 1,
   "nav_menu": {},
   "number_sections": true,
   "sideBar": true,
   "skip_h1_title": true,
   "title_cell": "Table of Contents",
   "title_sidebar": "Contents",
   "toc_cell": false,
   "toc_position": {},
   "toc_section_display": true,
   "toc_window_display": false
  }
 },
 "nbformat": 4,
 "nbformat_minor": 2
}
